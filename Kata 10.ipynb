{
 "cells": [
  {
   "cell_type": "markdown",
   "metadata": {},
   "source": [
    "# Kata 10"
   ]
  },
  {
   "cell_type": "code",
   "execution_count": null,
   "metadata": {},
   "outputs": [],
   "source": [
    ">>> try:\n",
    "...     open('config.txt')\n",
    "... except FileNotFoundError:\n",
    "...     print(\"Couldn't find the config.txt file!\")\n",
    "...\n",
    "Couldn't find the config.txt file!"
   ]
  },
  {
   "cell_type": "code",
   "execution_count": null,
   "metadata": {},
   "outputs": [],
   "source": [
    ">>> try:\n",
    "...     open('config.txt')\n",
    "... except FileNotFoundError:\n",
    "...     print(\"Couldn't find the config.txt file!\")\n",
    "...\n",
    "Couldn't find the config.txt file!"
   ]
  },
  {
   "cell_type": "code",
   "execution_count": null,
   "metadata": {},
   "outputs": [],
   "source": [
    "$ python config.py\n",
    "Traceback (most recent call last):\n",
    "  File \"/tmp/config.py\", line 9, in <module>\n",
    "    main()\n",
    "  File \"/tmp/config.py\", line 3, in main\n",
    "    configuration = open('config.txt')\n",
    "IsADirectoryError: [Errno 21] Is a directory: 'config.txt'"
   ]
  },
  {
   "cell_type": "code",
   "execution_count": null,
   "metadata": {},
   "outputs": [],
   "source": [
    "def main():\n",
    "    try:\n",
    "        configuration = open('config.txt')\n",
    "    except Exception:\n",
    "        print(\"Couldn't find the config.txt file!\")"
   ]
  },
  {
   "cell_type": "code",
   "execution_count": null,
   "metadata": {},
   "outputs": [],
   "source": [
    "def main():\n",
    "    try:\n",
    "        configuration = open('config.txt')\n",
    "    except Exception:\n",
    "        print(\"Couldn't find the config.txt file!\")"
   ]
  },
  {
   "cell_type": "code",
   "execution_count": null,
   "metadata": {},
   "outputs": [],
   "source": [
    "def main():\n",
    "    try:\n",
    "        configuration = open('config.txt')\n",
    "    except FileNotFoundError:\n",
    "        print(\"Couldn't find the config.txt file!\")\n",
    "    except IsADirectoryError:\n",
    "        print(\"Found config.txt but it is a directory, couldn't read it\")"
   ]
  },
  {
   "cell_type": "code",
   "execution_count": null,
   "metadata": {},
   "outputs": [],
   "source": [
    "$ python config.py\n",
    "Found config.txt but couldn't read it"
   ]
  },
  {
   "cell_type": "code",
   "execution_count": null,
   "metadata": {},
   "outputs": [],
   "source": [
    "$ rm -f config.txt\n",
    "$ python config.py\n",
    "Couldn't find the config.txt file!"
   ]
  }
 ],
 "metadata": {
  "interpreter": {
   "hash": "aebc74968d232ab672b4480fac06e3b61ca307fb2b4ebecd1f42acd176a63379"
  },
  "kernelspec": {
   "display_name": "Python 3.10.2 64-bit",
   "language": "python",
   "name": "python3"
  },
  "language_info": {
   "name": "python",
   "version": "3.10.2"
  },
  "orig_nbformat": 4
 },
 "nbformat": 4,
 "nbformat_minor": 2
}
