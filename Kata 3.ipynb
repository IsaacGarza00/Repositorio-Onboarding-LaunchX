{
 "cells": [
  {
   "cell_type": "markdown",
   "metadata": {},
   "source": [
    "# Kata 3"
   ]
  },
  {
   "cell_type": "code",
   "execution_count": 1,
   "metadata": {},
   "outputs": [
    {
     "name": "stdout",
     "output_type": "stream",
     "text": [
      "Se acerca un asteroide!\n"
     ]
    }
   ],
   "source": [
    "# Problema 1\n",
    "\n",
    "asteroide = 20\n",
    "if asteroide > 10:\n",
    "    print('Se acerca un asteroide')\n",
    "else:\n",
    "    print('No se acerca ningún asteroide')    "
   ]
  },
  {
   "cell_type": "code",
   "execution_count": 2,
   "metadata": {},
   "outputs": [
    {
     "name": "stdout",
     "output_type": "stream",
     "text": [
      "No se ve un rayo de luz\n"
     ]
    }
   ],
   "source": [
    "# Problema 2\n",
    "\n",
    "asteroide = 19\n",
    "if asteroide > 20:\n",
    "    print('Se ve un rayo de luz')\n",
    "elif asteroide ==20:\n",
    "    print('Se ve un rayo de luz')\n",
    "else:\n",
    "    print('No se ve un rayo de luz')            "
   ]
  },
  {
   "cell_type": "code",
   "execution_count": 3,
   "metadata": {},
   "outputs": [
    {
     "name": "stdout",
     "output_type": "stream",
     "text": [
      "Se ve un rayo de luz\n"
     ]
    }
   ],
   "source": [
    "# Problema 3\n",
    "\n",
    "velocidad_asteroide = 25\n",
    "tamaño_asteroide = 35\n",
    "if velocidad_asteroide > 25 and tamaño_asteroide > 25:\n",
    "    print('Se acerca un asteroide')\n",
    "elif velocidad_asteroide >= 20:\n",
    "    print('Se ve un rayo de luz') \n",
    "elif tamaño_asteroide < 25:\n",
    "    print('No se ve un rayo de luz')\n",
    "else:\n",
    "    print('No se ve un rayo de luz')        "
   ]
  }
 ],
 "metadata": {
  "interpreter": {
   "hash": "aebc74968d232ab672b4480fac06e3b61ca307fb2b4ebecd1f42acd176a63379"
  },
  "kernelspec": {
   "display_name": "Python 3.10.2 64-bit",
   "language": "python",
   "name": "python3"
  },
  "language_info": {
   "codemirror_mode": {
    "name": "ipython",
    "version": 3
   },
   "file_extension": ".py",
   "mimetype": "text/x-python",
   "name": "python",
   "nbconvert_exporter": "python",
   "pygments_lexer": "ipython3",
   "version": "3.10.2"
  },
  "orig_nbformat": 4
 },
 "nbformat": 4,
 "nbformat_minor": 2
}
